{
 "cells": [
  {
   "cell_type": "code",
   "execution_count": 35,
   "id": "959db4bb",
   "metadata": {},
   "outputs": [],
   "source": [
    "import numpy as np"
   ]
  },
  {
   "cell_type": "code",
   "execution_count": 36,
   "id": "f6ff3b35",
   "metadata": {},
   "outputs": [],
   "source": [
    "lista = [1,2,3]\n",
    "lista_array = np.array(lista)"
   ]
  },
  {
   "cell_type": "code",
   "execution_count": 37,
   "id": "b14aaa00",
   "metadata": {},
   "outputs": [
    {
     "name": "stdout",
     "output_type": "stream",
     "text": [
      "[1, 2, 3]\n",
      "\n",
      "[1 2 3]\n"
     ]
    }
   ],
   "source": [
    "print(lista)\n",
    "print()\n",
    "print(lista_array)"
   ]
  },
  {
   "cell_type": "code",
   "execution_count": 38,
   "id": "467d5ce5",
   "metadata": {},
   "outputs": [],
   "source": [
    "matriz = [[1,2.2,3], [4,5,6.5], [7.1,8,9]]\n",
    "matriz_array = np.array(matriz)"
   ]
  },
  {
   "cell_type": "code",
   "execution_count": 39,
   "id": "31259614",
   "metadata": {},
   "outputs": [
    {
     "name": "stdout",
     "output_type": "stream",
     "text": [
      "[[1, 2.2, 3], [4, 5, 6.5], [7.1, 8, 9]]\n",
      "\n",
      "[[1.  2.2 3. ]\n",
      " [4.  5.  6.5]\n",
      " [7.1 8.  9. ]]\n"
     ]
    }
   ],
   "source": [
    "print(matriz)\n",
    "print()\n",
    "print(matriz_array)"
   ]
  },
  {
   "cell_type": "code",
   "execution_count": 40,
   "id": "d9e6d1aa",
   "metadata": {},
   "outputs": [
    {
     "name": "stdout",
     "output_type": "stream",
     "text": [
      "[[1, 2.2, 3], [4, 5, 6.5], [7.1, 8, 9], [1, 2.2, 3], [4, 5, 6.5], [7.1, 8, 9]]\n",
      "\n",
      "[[ 2.   4.4  6. ]\n",
      " [ 8.  10.  13. ]\n",
      " [14.2 16.  18. ]]\n"
     ]
    }
   ],
   "source": [
    "print(matriz * 2)\n",
    "print()\n",
    "print(matriz_array * 2)"
   ]
  }
 ],
 "metadata": {
  "kernelspec": {
   "display_name": "venv",
   "language": "python",
   "name": "python3"
  },
  "language_info": {
   "codemirror_mode": {
    "name": "ipython",
    "version": 3
   },
   "file_extension": ".py",
   "mimetype": "text/x-python",
   "name": "python",
   "nbconvert_exporter": "python",
   "pygments_lexer": "ipython3",
   "version": "3.12.4"
  }
 },
 "nbformat": 4,
 "nbformat_minor": 5
}
